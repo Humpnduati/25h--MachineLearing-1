{
 "cells": [
  {
   "cell_type": "code",
   "execution_count": 1,
   "id": "45570ea9-229d-4f26-aeb9-7ac12fbdc55f",
   "metadata": {},
   "outputs": [],
   "source": [
    "import pandas as pd\n",
    "import numpy as np\n",
    "from sklearn.model_selection import train_test_split, cross_val_score, GridSearchCV\n",
    "from sklearn.preprocessing import StandardScaler, OneHotEncoder\n",
    "from sklearn.impute import SimpleImputer\n",
    "from sklearn.compose import ColumnTransformer\n",
    "from sklearn.pipeline import Pipeline\n",
    "from sklearn.linear_model import LinearRegression, Ridge, Lasso, ElasticNet\n",
    "from sklearn.ensemble import RandomForestRegressor, GradientBoostingRegressor\n",
    "from sklearn.svm import SVR\n",
    "from sklearn.metrics import mean_absolute_error\n",
    "import warnings\n",
    "warnings.filterwarnings('ignore')"
   ]
  },
  {
   "cell_type": "markdown",
   "id": "673b9d48-3a7f-4ddf-acd0-fd423bf42e04",
   "metadata": {},
   "source": [
    "##  Load data"
   ]
  },
  {
   "cell_type": "code",
   "execution_count": 3,
   "id": "576b1567-55c5-4998-9f89-5fe7f075c668",
   "metadata": {},
   "outputs": [
    {
     "name": "stdout",
     "output_type": "stream",
     "text": [
      "Training data-shape: (15289, 18)\n",
      "Test data_shape: (10194, 17)\n",
      "\n",
      "Training data coloums: ['id', 'clonesize', 'honeybee', 'bumbles', 'andrena', 'osmia', 'MaxOfUpperTRange', 'MinOfUpperTRange', 'AverageOfUpperTRange', 'MaxOfLowerTRange', 'MinOfLowerTRange', 'AverageOfLowerTRange', 'RainingDays', 'AverageRainingDays', 'fruitset', 'fruitmass', 'seeds', 'yield']\n"
     ]
    }
   ],
   "source": [
    "train_df = pd.read_csv('train.csv')\n",
    "test_df = pd.read_csv('test.csv')\n",
    "\n",
    "print('Training data-shape:', train_df.shape)\n",
    "print('Test data_shape:', test_df.shape)\n",
    "print('\\nTraining data coloums:', train_df.columns.tolist())"
   ]
  },
  {
   "cell_type": "code",
   "execution_count": 6,
   "id": "8eef556f-0b80-42b1-943a-4d483e0cd69f",
   "metadata": {
    "collapsed": true,
    "jupyter": {
     "outputs_hidden": true
    }
   },
   "outputs": [
    {
     "name": "stdout",
     "output_type": "stream",
     "text": [
      "\n",
      "--- Training Data Overview ---\n",
      "Shape: (15289, 18)\n",
      "\n",
      "Data Types:\n",
      "id                        int64\n",
      "clonesize               float64\n",
      "honeybee                float64\n",
      "bumbles                 float64\n",
      "andrena                 float64\n",
      "osmia                   float64\n",
      "MaxOfUpperTRange        float64\n",
      "MinOfUpperTRange        float64\n",
      "AverageOfUpperTRange    float64\n",
      "MaxOfLowerTRange        float64\n",
      "MinOfLowerTRange        float64\n",
      "AverageOfLowerTRange    float64\n",
      "RainingDays             float64\n",
      "AverageRainingDays      float64\n",
      "fruitset                float64\n",
      "fruitmass               float64\n",
      "seeds                   float64\n",
      "yield                   float64\n",
      "dtype: object\n",
      "\n",
      "Missing Values:\n",
      "id                      0\n",
      "clonesize               0\n",
      "honeybee                0\n",
      "bumbles                 0\n",
      "andrena                 0\n",
      "osmia                   0\n",
      "MaxOfUpperTRange        0\n",
      "MinOfUpperTRange        0\n",
      "AverageOfUpperTRange    0\n",
      "MaxOfLowerTRange        0\n",
      "MinOfLowerTRange        0\n",
      "AverageOfLowerTRange    0\n",
      "RainingDays             0\n",
      "AverageRainingDays      0\n",
      "fruitset                0\n",
      "fruitmass               0\n",
      "seeds                   0\n",
      "yield                   0\n",
      "dtype: int64\n",
      "\n",
      "Basic Stats:\n",
      "                 id     clonesize      honeybee       bumbles       andrena  \\\n",
      "count  15289.000000  15289.000000  15289.000000  15289.000000  15289.000000   \n",
      "mean    7644.000000     19.704690      0.389314      0.286768      0.492675   \n",
      "std     4413.698468      6.595211      0.361643      0.059917      0.148115   \n",
      "min        0.000000     10.000000      0.000000      0.000000      0.000000   \n",
      "25%     3822.000000     12.500000      0.250000      0.250000      0.380000   \n",
      "50%     7644.000000     25.000000      0.500000      0.250000      0.500000   \n",
      "75%    11466.000000     25.000000      0.500000      0.380000      0.630000   \n",
      "max    15288.000000     40.000000     18.430000      0.585000      0.750000   \n",
      "\n",
      "              osmia  MaxOfUpperTRange  MinOfUpperTRange  AverageOfUpperTRange  \\\n",
      "count  15289.000000      15289.000000      15289.000000          15289.000000   \n",
      "mean       0.592355         82.169887         49.673281             68.656256   \n",
      "std        0.139489          9.146703          5.546405              7.641807   \n",
      "min        0.000000         69.700000         39.000000             58.200000   \n",
      "25%        0.500000         77.400000         46.800000             64.700000   \n",
      "50%        0.630000         86.000000         52.000000             71.900000   \n",
      "75%        0.750000         86.000000         52.000000             71.900000   \n",
      "max        0.750000         94.600000         57.200000             79.000000   \n",
      "\n",
      "       MaxOfLowerTRange  MinOfLowerTRange  AverageOfLowerTRange   RainingDays  \\\n",
      "count      15289.000000      15289.000000          15289.000000  15289.000000   \n",
      "mean          59.229538         28.660553             48.568500     18.660865   \n",
      "std            6.610640          3.195367              5.390545     11.657582   \n",
      "min           50.200000         24.300000             41.200000      1.000000   \n",
      "25%           55.800000         27.000000             45.800000     16.000000   \n",
      "50%           62.000000         30.000000             50.800000     16.000000   \n",
      "75%           62.000000         30.000000             50.800000     24.000000   \n",
      "max           68.200000         33.000000             55.900000     34.000000   \n",
      "\n",
      "       AverageRainingDays      fruitset     fruitmass         seeds  \\\n",
      "count        15289.000000  15289.000000  15289.000000  15289.000000   \n",
      "mean             0.324176      0.502741      0.446553     36.164950   \n",
      "std              0.163905      0.074390      0.037035      4.031087   \n",
      "min              0.060000      0.192732      0.311921     22.079199   \n",
      "25%              0.260000      0.458246      0.419216     33.232449   \n",
      "50%              0.260000      0.506600      0.446570     36.040675   \n",
      "75%              0.390000      0.560445      0.474134     39.158238   \n",
      "max              0.560000      0.652144      0.535660     46.585105   \n",
      "\n",
      "              yield  \n",
      "count  15289.000000  \n",
      "mean    6025.193999  \n",
      "std     1337.056850  \n",
      "min     1945.530610  \n",
      "25%     5128.163510  \n",
      "50%     6117.475900  \n",
      "75%     7019.694380  \n",
      "max     8969.401840  \n",
      "\n",
      "--- Test Data Overview ---\n",
      "Shape: (10194, 17)\n",
      "\n",
      "Data Types:\n",
      "id                        int64\n",
      "clonesize               float64\n",
      "honeybee                float64\n",
      "bumbles                 float64\n",
      "andrena                 float64\n",
      "osmia                   float64\n",
      "MaxOfUpperTRange        float64\n",
      "MinOfUpperTRange        float64\n",
      "AverageOfUpperTRange    float64\n",
      "MaxOfLowerTRange        float64\n",
      "MinOfLowerTRange        float64\n",
      "AverageOfLowerTRange    float64\n",
      "RainingDays             float64\n",
      "AverageRainingDays      float64\n",
      "fruitset                float64\n",
      "fruitmass               float64\n",
      "seeds                   float64\n",
      "dtype: object\n",
      "\n",
      "Missing Values:\n",
      "id                      0\n",
      "clonesize               0\n",
      "honeybee                0\n",
      "bumbles                 0\n",
      "andrena                 0\n",
      "osmia                   0\n",
      "MaxOfUpperTRange        0\n",
      "MinOfUpperTRange        0\n",
      "AverageOfUpperTRange    0\n",
      "MaxOfLowerTRange        0\n",
      "MinOfLowerTRange        0\n",
      "AverageOfLowerTRange    0\n",
      "RainingDays             0\n",
      "AverageRainingDays      0\n",
      "fruitset                0\n",
      "fruitmass               0\n",
      "seeds                   0\n",
      "dtype: int64\n",
      "\n",
      "Basic Stats:\n",
      "                 id     clonesize      honeybee       bumbles       andrena  \\\n",
      "count  10194.000000  10194.000000  10194.000000  10194.000000  10194.000000   \n",
      "mean   20385.500000     19.795958      0.391606      0.286307      0.491328   \n",
      "std     2942.898656      6.591864      0.390022      0.059867      0.148166   \n",
      "min    15289.000000     10.000000      0.000000      0.000000      0.000000   \n",
      "25%    17837.250000     12.500000      0.250000      0.250000      0.380000   \n",
      "50%    20385.500000     25.000000      0.500000      0.250000      0.500000   \n",
      "75%    22933.750000     25.000000      0.500000      0.380000      0.630000   \n",
      "max    25482.000000     37.500000     18.430000      0.585000      0.750000   \n",
      "\n",
      "              osmia  MaxOfUpperTRange  MinOfUpperTRange  AverageOfUpperTRange  \\\n",
      "count  10194.000000      10194.000000      10194.000000          10194.000000   \n",
      "mean       0.593222         82.207014         49.697204             68.687816   \n",
      "std        0.139897          9.153442          5.552286              7.647629   \n",
      "min        0.000000         69.700000         39.000000             58.200000   \n",
      "25%        0.500000         77.400000         46.800000             64.700000   \n",
      "50%        0.630000         86.000000         52.000000             71.900000   \n",
      "75%        0.750000         86.000000         52.000000             71.900000   \n",
      "max        0.750000         94.600000         57.200000             79.000000   \n",
      "\n",
      "       MaxOfLowerTRange  MinOfLowerTRange  AverageOfLowerTRange   RainingDays  \\\n",
      "count      10194.000000      10194.000000          10194.000000  10194.000000   \n",
      "mean          59.256465         28.674779             48.592643     18.507360   \n",
      "std            6.617055          3.198282              5.395790     11.780074   \n",
      "min           50.200000         24.300000             41.200000      1.000000   \n",
      "25%           55.800000         27.000000             45.800000     16.000000   \n",
      "50%           62.000000         30.000000             50.800000     16.000000   \n",
      "75%           62.000000         30.000000             50.800000     24.000000   \n",
      "max           68.200000         33.000000             55.900000     34.000000   \n",
      "\n",
      "       AverageRainingDays      fruitset     fruitmass         seeds  \n",
      "count        10194.000000  10194.000000  10194.000000  10194.000000  \n",
      "mean             0.322501      0.501809      0.446345     36.136349  \n",
      "std              0.165342      0.074707      0.037054      4.019885  \n",
      "min              0.060000      0.233554      0.311921     24.320627  \n",
      "25%              0.260000      0.458246      0.418867     33.231910  \n",
      "50%              0.260000      0.506346      0.446570     36.013557  \n",
      "75%              0.390000      0.559325      0.472670     39.127263  \n",
      "max              0.560000      0.652144      0.535660     46.139425  \n"
     ]
    }
   ],
   "source": [
    "def explore_data(df, name = 'Dataset'):\n",
    "    print(f'\\n--- {name} Overview ---')\n",
    "    print(f'Shape: {df.shape}')\n",
    "    print('\\nData Types:')\n",
    "    print(df.dtypes)\n",
    "    print('\\nMissing Values:')\n",
    "    print(df.isnull().sum())\n",
    "    print('\\nBasic Stats:')\n",
    "    print(df.describe())\n",
    "\n",
    "    # Check for Categorical Variables\n",
    "\n",
    "    categorical_cols = df.select_dtypes(include = ['object']).columns\n",
    "    if len(categorical_cols) > 0:\n",
    "        print(f'\\nCategorical columns: {list(categorical_cols)}')\n",
    "        for col in categorical_cols:\n",
    "            print(f'{col} unique values: {df[col].unique()}')\n",
    "\n",
    "explore_data(train_df, 'Training Data')\n",
    "explore_data(test_df,   'Test Data')"
   ]
  },
  {
   "cell_type": "code",
   "execution_count": 7,
   "id": "1c53d1d7-b499-4bc3-9d02-c1497960d563",
   "metadata": {},
   "outputs": [
    {
     "name": "stdout",
     "output_type": "stream",
     "text": [
      "\n",
      "Target variable: yield\n"
     ]
    }
   ],
   "source": [
    "# Identify Target Variable \n",
    "\n",
    "if 'yield' in train_df.columns:\n",
    "    target_col = 'yield'\n",
    "\n",
    "elif 'target' in train_df.columns:\n",
    "    target_col = 'target'\n",
    "\n",
    "else: target_col = train_df.columns[-1]\n",
    "\n",
    "print(f'\\nTarget variable: {target_col}')"
   ]
  },
  {
   "cell_type": "markdown",
   "id": "4c4b5f5e-3cb7-4138-86d5-2062370c1bc7",
   "metadata": {},
   "source": [
    "## Data Preparation Pipeline"
   ]
  },
  {
   "cell_type": "code",
   "execution_count": 9,
   "id": "8a8af638-b048-43ca-82ec-729dd2fdf8bf",
   "metadata": {},
   "outputs": [
    {
     "name": "stdout",
     "output_type": "stream",
     "text": [
      "Numeric features: ['id', 'clonesize', 'honeybee', 'bumbles', 'andrena', 'osmia', 'MaxOfUpperTRange', 'MinOfUpperTRange', 'AverageOfUpperTRange', 'MaxOfLowerTRange', 'MinOfLowerTRange', 'AverageOfLowerTRange', 'RainingDays', 'AverageRainingDays', 'fruitset', 'fruitmass', 'seeds']\n",
      "Categorical features: []\n"
     ]
    }
   ],
   "source": [
    "# Separate features & target\n",
    "\n",
    "X = train_df.drop(columns=[target_col])\n",
    "y = train_df[target_col]\n",
    "\n",
    "# Identify numerical and categorical columns\n",
    "\n",
    "numeric_features = X.select_dtypes(include=[np.number]).columns.tolist()\n",
    "categorical_features = X.select_dtypes(include=['object']).columns.tolist()\n",
    "\n",
    "print('Numeric features:', numeric_features)\n",
    "print('Categorical features:', categorical_features)"
   ]
  },
  {
   "cell_type": "code",
   "execution_count": 12,
   "id": "8fc735c6-9a1d-4d66-b8c2-5952bd97973d",
   "metadata": {},
   "outputs": [],
   "source": [
    "# Create preprocessing piplines\n",
    "\n",
    "numeric_transformer = Pipeline(steps=[('imputer', SimpleImputer(strategy = 'median')),\n",
    "                                     ('scaler', StandardScaler())\n",
    "                                     ])\n",
    "\n",
    "categorical_transformer = Pipeline(steps=[('imputer', SimpleImputer(strategy = 'most_frequent')),\n",
    "                                         ('onehot', OneHotEncoder(handle_unknown = 'ignore', sparse_output = False))\n",
    "                                         ])"
   ]
  },
  {
   "cell_type": "code",
   "execution_count": 14,
   "id": "64f82240-0459-4573-bceb-5325f0cb533e",
   "metadata": {},
   "outputs": [],
   "source": [
    "# Combining preprocessing steps\n",
    "\n",
    "preprocessor = ColumnTransformer(\n",
    "    transformers = [\n",
    "        ('num', numeric_transformer, numeric_features),\n",
    "        ('cat', categorical_transformer, categorical_features)\n",
    "    ]\n",
    ")"
   ]
  },
  {
   "cell_type": "code",
   "execution_count": 15,
   "id": "9b8e7ee4-53b8-4402-a80b-7b87f15f9c3c",
   "metadata": {},
   "outputs": [],
   "source": [
    "# Split training data for validation\n",
    "\n",
    "X_train, X_val, y_train, y_val = train_test_split(\n",
    "    X, y, test_size = 0.2, random_state = 42\n",
    ")"
   ]
  },
  {
   "cell_type": "markdown",
   "id": "abd5b10c-a416-4c7f-9808-87cf5fe8c7ee",
   "metadata": {},
   "source": [
    "## Model Training and Evaluation"
   ]
  },
  {
   "cell_type": "code",
   "execution_count": 18,
   "id": "9cd5e475-74fa-4cff-8ab1-c49910dea7b7",
   "metadata": {},
   "outputs": [],
   "source": [
    "# Defining models to try\n",
    "\n",
    "models = {\n",
    "    'Linear Regression': LinearRegression(),\n",
    "    'Ridge': Ridge(random_state = 42),\n",
    "    'Lasso': Lasso(random_state = 42),\n",
    "    'ElasticNet': ElasticNet(random_state = 42),\n",
    "    'Random Forest': RandomForestRegressor(random_state = 42),\n",
    "    'Gradient Boosting': GradientBoostingRegressor(random_state = 42)\n",
    "}"
   ]
  },
  {
   "cell_type": "code",
   "execution_count": 20,
   "id": "0d941ee2-54e9-4c21-aa03-bad75bf52af4",
   "metadata": {},
   "outputs": [
    {
     "name": "stdout",
     "output_type": "stream",
     "text": [
      "Linear Regression:\n",
      " Validation MAE: 370.4280\n",
      " Cross-validation MAE: 372.4198\n",
      " CV Std: 9.4181\n",
      "Ridge:\n",
      " Validation MAE: 370.7253\n",
      " Cross-validation MAE: 372.3978\n",
      " CV Std: 8.8901\n",
      "Lasso:\n",
      " Validation MAE: 370.6488\n",
      " Cross-validation MAE: 372.3321\n",
      " CV Std: 8.6408\n",
      "ElasticNet:\n",
      " Validation MAE: 444.6067\n",
      " Cross-validation MAE: 443.8287\n",
      " CV Std: 9.4806\n",
      "Random Forest:\n",
      " Validation MAE: 359.4741\n",
      " Cross-validation MAE: 368.4975\n",
      " CV Std: 7.6423\n",
      "Gradient Boosting:\n",
      " Validation MAE: 350.8269\n",
      " Cross-validation MAE: 357.4666\n",
      " CV Std: 8.6204\n",
      "\n",
      "Best model: Gradient Boosting with MAE: 350.8269\n"
     ]
    }
   ],
   "source": [
    "# Training and evaluating models\n",
    "\n",
    "results = {}\n",
    "best_score = float('inf')\n",
    "best_model = None\n",
    "best_model_name = ''\n",
    "\n",
    "for name, model in models.items():\n",
    "    pipeline = Pipeline(steps = [      # create pipeline with preprocessor and model\n",
    "        ('preprocessor', preprocessor),\n",
    "        ('model', model)\n",
    "    ])\n",
    "\n",
    "    # Fitting the model\n",
    "\n",
    "    pipeline.fit(X_train,  y_train)\n",
    "\n",
    "    # Making predictions\n",
    "\n",
    "    y_pred = pipeline.predict(X_val)\n",
    "\n",
    "    # Calculating Mean Absolute Error \n",
    "\n",
    "    mae = mean_absolute_error(y_val, y_pred)\n",
    "    results[name] = mae\n",
    "\n",
    "    # Cross-validation score\n",
    "\n",
    "    cv_scores = cross_val_score(pipeline, X_train, y_train,\n",
    "                               scoring = 'neg_mean_absolute_error', cv = 5)\n",
    "    cv_mae = -cv_scores.mean()\n",
    "\n",
    "    print(f'{name}:')\n",
    "    print(f' Validation MAE: {mae:.4f}')\n",
    "    print(f' Cross-validation MAE: {cv_mae:.4f}')\n",
    "    print(f' CV Std: {cv_scores.std():.4f}')\n",
    "\n",
    "    if mae < best_score:\n",
    "        best_score = mae\n",
    "        best_model = pipeline\n",
    "        best_model_name = name\n",
    "\n",
    "\n",
    "print(f'\\nBest model: {best_model_name} with MAE: {best_score:.4f}') "
   ]
  },
  {
   "cell_type": "markdown",
   "id": "3cb38f1d-591d-4a1a-946c-30b7321234e7",
   "metadata": {},
   "source": [
    "## Hyperparameter Tuning"
   ]
  },
  {
   "cell_type": "code",
   "execution_count": 24,
   "id": "c1b13c42-3da3-46d7-88d8-10e73308758d",
   "metadata": {},
   "outputs": [
    {
     "name": "stdout",
     "output_type": "stream",
     "text": [
      "\n",
      "Tuning Gradient Boosting...\n",
      "Fitting 5 folds for each of 81 candidates, totalling 405 fits\n",
      "Best parameters: {'model__learning_rate': 0.05, 'model__max_depth': 4, 'model__min_samples_split': 2, 'model__n_estimators': 100}\n",
      "Best cross-validation score: 355.59401331939824\n"
     ]
    }
   ],
   "source": [
    "# Tuning the best performing model\n",
    "\n",
    "if best_model_name == 'Random Forest':\n",
    "    param_grid = {\n",
    "        'model__n_estimators': [100, 200, 300],\n",
    "        'model__max_depth': [10, 20, None],\n",
    "        'model__min_samples_split': [2, 5, 10],\n",
    "        'model__min_samples_leaf': [1, 2, 4]\n",
    "    }\n",
    "\n",
    "elif best_model_name == 'Gradient Boosting':\n",
    "    param_grid = {\n",
    "        'model__n_estimators': [100, 200, 300],\n",
    "        'model__learning_rate': [0.05, 0.1, 0.15],\n",
    "        'model__max_depth': [3, 4, 5],\n",
    "        'model__min_samples_split': [2, 5, 10]\n",
    "    }\n",
    "\n",
    "else: # For linear mmodels\n",
    "    param_grid = {\n",
    "        'model__alpha': [0.1, 1.0, 10.0, 100.0]\n",
    "    }\n",
    "\n",
    "# Perform grid search\n",
    "grid_search = GridSearchCV(\n",
    "    best_model, param_grid, scoring = 'neg_mean_absolute_error', cv = 5, n_jobs = -1, verbose = 1 \n",
    ")\n",
    "\n",
    "print(f'\\nTuning {best_model_name}...')\n",
    "grid_search.fit(X_train, y_train)\n",
    "print('Best parameters:', grid_search.best_params_)\n",
    "print('Best cross-validation score:', -grid_search.best_score_) \n",
    "\n",
    "# Use the tuned model\n",
    "\n",
    "best_model = grid_search.best_estimator_"
   ]
  },
  {
   "cell_type": "markdown",
   "id": "db30150b-9434-4eb8-930e-db56f275d4dd",
   "metadata": {},
   "source": [
    "## Final model Training and Prediction"
   ]
  },
  {
   "cell_type": "code",
   "execution_count": 35,
   "id": "3c79b194-ed1f-4439-b2b2-b6bebde80098",
   "metadata": {},
   "outputs": [],
   "source": [
    "# Train final model on entire training data\n",
    "\n",
    "final_pipeline = Pipeline(steps = [\n",
    "    ('preprocessor', preprocessor),\n",
    "    ('model', best_model.named_steps['model'])\n",
    "])\n",
    "\n",
    "# Fit on entire training data\n",
    "\n",
    "final_pipeline.fit(X,y)\n",
    "\n",
    "# Make predictions on the test data\n",
    "\n",
    "test_predictions = final_pipeline.predict(test_df)"
   ]
  },
  {
   "cell_type": "markdown",
   "id": "6d0cad5d-fc39-44d5-b7c0-5ae7727a4628",
   "metadata": {},
   "source": [
    "## Submission File"
   ]
  },
  {
   "cell_type": "code",
   "execution_count": 38,
   "id": "0b0c1612-2b72-4459-bad1-1cc736cc0462",
   "metadata": {},
   "outputs": [
    {
     "name": "stdout",
     "output_type": "stream",
     "text": [
      "\n",
      "Submission file saved as 'submission.csv' \n",
      "Prediction range: 2458.79 to 8504.58\n"
     ]
    }
   ],
   "source": [
    "submission_df = pd.DataFrame({\n",
    "    'Id' : test_df.index if 'Id' not in test_df.columns else test_df['Id'],'Predicted': \n",
    "    test_predictions\n",
    "})\n",
    "\n",
    "# Ensure the columns names match the requirements\n",
    "\n",
    "submission_df.columns = ['Id', target_col] if 'Id' in submission_df.columns else [target_col]\n",
    "\n",
    "submission_df.to_csv('submission.csv', index = False)\n",
    "print(\"\\nSubmission file saved as 'submission.csv' \")\n",
    "print(f'Prediction range: {test_predictions.min():.2f} to {test_predictions.max():.2f}')"
   ]
  },
  {
   "cell_type": "code",
   "execution_count": null,
   "id": "4762f07c-4ee8-482b-b2a6-459f17741779",
   "metadata": {},
   "outputs": [],
   "source": []
  }
 ],
 "metadata": {
  "kernelspec": {
   "display_name": "Python 3 (ipykernel)",
   "language": "python",
   "name": "python3"
  },
  "language_info": {
   "codemirror_mode": {
    "name": "ipython",
    "version": 3
   },
   "file_extension": ".py",
   "mimetype": "text/x-python",
   "name": "python",
   "nbconvert_exporter": "python",
   "pygments_lexer": "ipython3",
   "version": "3.13.3"
  }
 },
 "nbformat": 4,
 "nbformat_minor": 5
}
